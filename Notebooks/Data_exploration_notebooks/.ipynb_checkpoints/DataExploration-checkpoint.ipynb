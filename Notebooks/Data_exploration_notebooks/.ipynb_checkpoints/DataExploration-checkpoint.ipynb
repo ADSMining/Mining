{
 "cells": [
  {
   "cell_type": "code",
   "execution_count": 1,
   "id": "df458612",
   "metadata": {},
   "outputs": [],
   "source": [
    "import pandas as pd\n",
    "import numpy as np\n",
    "import WranglerFunctions as wf"
   ]
  },
  {
   "cell_type": "code",
   "execution_count": 2,
   "id": "94d46771",
   "metadata": {},
   "outputs": [],
   "source": [
    "financial_original = pd.read_csv('../Datasets/Financial_dataset/F3METL_Comp.csv', index_col = False)\n",
    "inflation_original = pd.read_csv('../Datasets/Economic_dataset/Inflation.csv', index_col = False)"
   ]
  },
  {
   "cell_type": "code",
   "execution_count": 3,
   "id": "5aae3b70",
   "metadata": {},
   "outputs": [
    {
     "name": "stderr",
     "output_type": "stream",
     "text": [
      "C:\\Users\\vojno\\OneDrive - University of Bristol\\Applied Data Science\\Mining\\Notebooks\\Data_exploration_notebooks\\WranglerFunctions.py:7: SettingWithCopyWarning: \n",
      "A value is trying to be set on a copy of a slice from a DataFrame\n",
      "\n",
      "See the caveats in the documentation: https://pandas.pydata.org/pandas-docs/stable/user_guide/indexing.html#returning-a-view-versus-a-copy\n",
      "  df[column_name][i] = pd.to_datetime(df[column_name][i], format = format_string)\n"
     ]
    }
   ],
   "source": [
    "clean_inflation, date_err = wf.Inflation_Wrangler(inflation_original)"
   ]
  },
  {
   "cell_type": "code",
   "execution_count": 4,
   "id": "893b849d",
   "metadata": {},
   "outputs": [
    {
     "ename": "ValueError",
     "evalue": "too many values to unpack (expected 2)",
     "output_type": "error",
     "traceback": [
      "\u001b[1;31m---------------------------------------------------------------------------\u001b[0m",
      "\u001b[1;31mValueError\u001b[0m                                Traceback (most recent call last)",
      "\u001b[1;32m~\\AppData\\Local\\Temp/ipykernel_16408/2040244823.py\u001b[0m in \u001b[0;36m<module>\u001b[1;34m\u001b[0m\n\u001b[1;32m----> 1\u001b[1;33m \u001b[0mclean_financial\u001b[0m\u001b[1;33m,\u001b[0m \u001b[0mdate_err\u001b[0m \u001b[1;33m=\u001b[0m \u001b[0mwf\u001b[0m\u001b[1;33m.\u001b[0m\u001b[0mF3Metl_Comp_Wrangler\u001b[0m\u001b[1;33m(\u001b[0m\u001b[0mfinancial_original\u001b[0m\u001b[1;33m)\u001b[0m\u001b[1;33m\u001b[0m\u001b[1;33m\u001b[0m\u001b[0m\n\u001b[0m",
      "\u001b[1;31mValueError\u001b[0m: too many values to unpack (expected 2)"
     ]
    }
   ],
   "source": [
    "clean_financial = wf.F3Metl_Comp_Wrangler(financial_original)"
   ]
  },
  {
   "cell_type": "code",
   "execution_count": null,
   "id": "8c951bd7",
   "metadata": {},
   "outputs": [],
   "source": [
    "clean_inflation"
   ]
  },
  {
   "cell_type": "code",
   "execution_count": null,
   "id": "f49faa01",
   "metadata": {},
   "outputs": [],
   "source": [
    "clean_financial"
   ]
  },
  {
   "cell_type": "code",
   "execution_count": null,
   "id": "bb882b59",
   "metadata": {},
   "outputs": [],
   "source": []
  }
 ],
 "metadata": {
  "kernelspec": {
   "display_name": "Python 3 (ipykernel)",
   "language": "python",
   "name": "python3"
  },
  "language_info": {
   "codemirror_mode": {
    "name": "ipython",
    "version": 3
   },
   "file_extension": ".py",
   "mimetype": "text/x-python",
   "name": "python",
   "nbconvert_exporter": "python",
   "pygments_lexer": "ipython3",
   "version": "3.8.12"
  }
 },
 "nbformat": 4,
 "nbformat_minor": 5
}
