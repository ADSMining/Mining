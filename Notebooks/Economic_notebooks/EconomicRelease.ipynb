{
 "cells": [
  {
   "cell_type": "code",
   "execution_count": 1,
   "id": "8efa4894",
   "metadata": {},
   "outputs": [],
   "source": [
    "import pandas as pd"
   ]
  },
  {
   "cell_type": "code",
   "execution_count": 2,
   "id": "5e7d2ebf",
   "metadata": {},
   "outputs": [
    {
     "data": {
      "text/html": [
       "<div>\n",
       "<style scoped>\n",
       "    .dataframe tbody tr th:only-of-type {\n",
       "        vertical-align: middle;\n",
       "    }\n",
       "\n",
       "    .dataframe tbody tr th {\n",
       "        vertical-align: top;\n",
       "    }\n",
       "\n",
       "    .dataframe thead th {\n",
       "        text-align: right;\n",
       "    }\n",
       "</style>\n",
       "<table border=\"1\" class=\"dataframe\">\n",
       "  <thead>\n",
       "    <tr style=\"text-align: right;\">\n",
       "      <th></th>\n",
       "      <th>Date Time</th>\n",
       "      <th>Unnamed: 1</th>\n",
       "      <th>Unnamed: 2</th>\n",
       "      <th>Unnamed: 3</th>\n",
       "      <th>Event</th>\n",
       "      <th>Unnamed: 5</th>\n",
       "      <th>Survey</th>\n",
       "      <th>Actual</th>\n",
       "      <th>Prior</th>\n",
       "      <th>Revised</th>\n",
       "      <th>Relevance</th>\n",
       "      <th>Ticker</th>\n",
       "    </tr>\n",
       "  </thead>\n",
       "  <tbody>\n",
       "    <tr>\n",
       "      <th>0</th>\n",
       "      <td>01/04/2010 04:30</td>\n",
       "      <td>UK</td>\n",
       "      <td>1)</td>\n",
       "      <td>NaN</td>\n",
       "      <td>Net Consumer Credit</td>\n",
       "      <td>Nov</td>\n",
       "      <td>-5.00E+08</td>\n",
       "      <td>-4.00E+08</td>\n",
       "      <td>-6.00E+08</td>\n",
       "      <td>-4.00E+08</td>\n",
       "      <td>UKMSCRCA Index</td>\n",
       "      <td>NaN</td>\n",
       "    </tr>\n",
       "    <tr>\n",
       "      <th>1</th>\n",
       "      <td>01/04/2010 04:30</td>\n",
       "      <td>UK</td>\n",
       "      <td>2)</td>\n",
       "      <td>NaN</td>\n",
       "      <td>Net Lending Sec. on Dwellings</td>\n",
       "      <td>Nov</td>\n",
       "      <td>1.00E+09</td>\n",
       "      <td>1.50E+09</td>\n",
       "      <td>9.00E+08</td>\n",
       "      <td>9.00E+08</td>\n",
       "      <td>47.619</td>\n",
       "      <td>UKMSVTVJ Index</td>\n",
       "    </tr>\n",
       "    <tr>\n",
       "      <th>2</th>\n",
       "      <td>01/04/2010 04:30</td>\n",
       "      <td>UK</td>\n",
       "      <td>3)</td>\n",
       "      <td>NaN</td>\n",
       "      <td>Mortgage Approvals</td>\n",
       "      <td>Nov</td>\n",
       "      <td>58000</td>\n",
       "      <td>60500</td>\n",
       "      <td>57300</td>\n",
       "      <td>56100</td>\n",
       "      <td>84.5238</td>\n",
       "      <td>UKMSVTVX Index</td>\n",
       "    </tr>\n",
       "    <tr>\n",
       "      <th>3</th>\n",
       "      <td>01/04/2010 04:30</td>\n",
       "      <td>UK</td>\n",
       "      <td>4)</td>\n",
       "      <td>NaN</td>\n",
       "      <td>Money Supply M4 MoM</td>\n",
       "      <td>Nov F</td>\n",
       "      <td>--</td>\n",
       "      <td>0.10%</td>\n",
       "      <td>0.00%</td>\n",
       "      <td>-0.40%</td>\n",
       "      <td>53.5714</td>\n",
       "      <td>UKMSM41M Index</td>\n",
       "    </tr>\n",
       "    <tr>\n",
       "      <th>4</th>\n",
       "      <td>01/04/2010 04:30</td>\n",
       "      <td>UK</td>\n",
       "      <td>5)</td>\n",
       "      <td>NaN</td>\n",
       "      <td>M4 Money Supply YoY</td>\n",
       "      <td>Nov F</td>\n",
       "      <td>--</td>\n",
       "      <td>9.30%</td>\n",
       "      <td>9.20%</td>\n",
       "      <td>9.00%</td>\n",
       "      <td>54.7619</td>\n",
       "      <td>UKMSM41Y Index</td>\n",
       "    </tr>\n",
       "    <tr>\n",
       "      <th>...</th>\n",
       "      <td>...</td>\n",
       "      <td>...</td>\n",
       "      <td>...</td>\n",
       "      <td>...</td>\n",
       "      <td>...</td>\n",
       "      <td>...</td>\n",
       "      <td>...</td>\n",
       "      <td>...</td>\n",
       "      <td>...</td>\n",
       "      <td>...</td>\n",
       "      <td>...</td>\n",
       "      <td>...</td>\n",
       "    </tr>\n",
       "    <tr>\n",
       "      <th>11323</th>\n",
       "      <td>02/03/2022 07:00</td>\n",
       "      <td>UK</td>\n",
       "      <td>1329)</td>\n",
       "      <td>NaN</td>\n",
       "      <td>BOE Corporate Bond Target</td>\n",
       "      <td>Feb</td>\n",
       "      <td>2.00E+10</td>\n",
       "      <td>--</td>\n",
       "      <td>2.00E+10</td>\n",
       "      <td>--</td>\n",
       "      <td>21.4286</td>\n",
       "      <td>UKAPCBPT Index</td>\n",
       "    </tr>\n",
       "    <tr>\n",
       "      <th>11324</th>\n",
       "      <td>02/03/2022 07:00</td>\n",
       "      <td>UK</td>\n",
       "      <td>1330)</td>\n",
       "      <td>NaN</td>\n",
       "      <td>BOE Gilt Purchase Target</td>\n",
       "      <td>Feb</td>\n",
       "      <td>8.75E+11</td>\n",
       "      <td>--</td>\n",
       "      <td>8.75E+11</td>\n",
       "      <td>--</td>\n",
       "      <td>76.1905</td>\n",
       "      <td>UKAPTARG Index</td>\n",
       "    </tr>\n",
       "    <tr>\n",
       "      <th>11325</th>\n",
       "      <td>02/04/2022 04:00</td>\n",
       "      <td>UK</td>\n",
       "      <td>1331)</td>\n",
       "      <td>NaN</td>\n",
       "      <td>New Car Registrations YoY</td>\n",
       "      <td>Jan</td>\n",
       "      <td>--</td>\n",
       "      <td>--</td>\n",
       "      <td>-18.20%</td>\n",
       "      <td>--</td>\n",
       "      <td>44.0476</td>\n",
       "      <td>UKVHRYY Index</td>\n",
       "    </tr>\n",
       "    <tr>\n",
       "      <th>11326</th>\n",
       "      <td>02/04/2022 04:30</td>\n",
       "      <td>UK</td>\n",
       "      <td>1332)</td>\n",
       "      <td>NaN</td>\n",
       "      <td>Markit/CIPS UK Construction PMI</td>\n",
       "      <td>Jan</td>\n",
       "      <td>54.3</td>\n",
       "      <td>--</td>\n",
       "      <td>54.3</td>\n",
       "      <td>--</td>\n",
       "      <td>77.381</td>\n",
       "      <td>MPMIGBXA Index</td>\n",
       "    </tr>\n",
       "    <tr>\n",
       "      <th>11327</th>\n",
       "      <td>02/07/2022 19:01</td>\n",
       "      <td>UK</td>\n",
       "      <td>1333)</td>\n",
       "      <td>NaN</td>\n",
       "      <td>BRC Sales Like-For-Like YoY</td>\n",
       "      <td>Jan</td>\n",
       "      <td>--</td>\n",
       "      <td>--</td>\n",
       "      <td>0.60%</td>\n",
       "      <td>--</td>\n",
       "      <td>30.9524</td>\n",
       "      <td>KPRSLFLS Index</td>\n",
       "    </tr>\n",
       "  </tbody>\n",
       "</table>\n",
       "<p>11328 rows × 12 columns</p>\n",
       "</div>"
      ],
      "text/plain": [
       "              Date Time Unnamed: 1 Unnamed: 2  Unnamed: 3  \\\n",
       "0      01/04/2010 04:30         UK         1)         NaN   \n",
       "1      01/04/2010 04:30         UK         2)         NaN   \n",
       "2      01/04/2010 04:30         UK         3)         NaN   \n",
       "3      01/04/2010 04:30         UK         4)         NaN   \n",
       "4      01/04/2010 04:30         UK         5)         NaN   \n",
       "...                 ...        ...        ...         ...   \n",
       "11323  02/03/2022 07:00         UK      1329)         NaN   \n",
       "11324  02/03/2022 07:00         UK      1330)         NaN   \n",
       "11325  02/04/2022 04:00         UK      1331)         NaN   \n",
       "11326  02/04/2022 04:30         UK      1332)         NaN   \n",
       "11327  02/07/2022 19:01         UK      1333)         NaN   \n",
       "\n",
       "                                 Event Unnamed: 5     Survey     Actual  \\\n",
       "0                  Net Consumer Credit        Nov  -5.00E+08  -4.00E+08   \n",
       "1        Net Lending Sec. on Dwellings        Nov   1.00E+09   1.50E+09   \n",
       "2                   Mortgage Approvals        Nov      58000      60500   \n",
       "3                  Money Supply M4 MoM      Nov F         --      0.10%   \n",
       "4                  M4 Money Supply YoY      Nov F         --      9.30%   \n",
       "...                                ...        ...        ...        ...   \n",
       "11323        BOE Corporate Bond Target        Feb   2.00E+10         --   \n",
       "11324         BOE Gilt Purchase Target        Feb   8.75E+11         --   \n",
       "11325        New Car Registrations YoY        Jan         --         --   \n",
       "11326  Markit/CIPS UK Construction PMI        Jan       54.3         --   \n",
       "11327      BRC Sales Like-For-Like YoY        Jan         --         --   \n",
       "\n",
       "           Prior    Revised       Relevance          Ticker  \n",
       "0      -6.00E+08  -4.00E+08  UKMSCRCA Index             NaN  \n",
       "1       9.00E+08   9.00E+08          47.619  UKMSVTVJ Index  \n",
       "2          57300      56100         84.5238  UKMSVTVX Index  \n",
       "3          0.00%     -0.40%         53.5714  UKMSM41M Index  \n",
       "4          9.20%      9.00%         54.7619  UKMSM41Y Index  \n",
       "...          ...        ...             ...             ...  \n",
       "11323   2.00E+10         --         21.4286  UKAPCBPT Index  \n",
       "11324   8.75E+11         --         76.1905  UKAPTARG Index  \n",
       "11325    -18.20%         --         44.0476   UKVHRYY Index  \n",
       "11326       54.3         --          77.381  MPMIGBXA Index  \n",
       "11327      0.60%         --         30.9524  KPRSLFLS Index  \n",
       "\n",
       "[11328 rows x 12 columns]"
      ]
     },
     "execution_count": 2,
     "metadata": {},
     "output_type": "execute_result"
    }
   ],
   "source": [
    "original_data = pd.read_csv('../../Notebooks/Datasets/Economic_dataset/Economic_Release.csv')\n",
    "original_data"
   ]
  },
  {
   "cell_type": "markdown",
   "id": "a65bf68e",
   "metadata": {},
   "source": [
    "## Data Wrangling"
   ]
  },
  {
   "cell_type": "markdown",
   "id": "9e06fe88",
   "metadata": {},
   "source": [
    "Column **'Unnamed: 1'** only ever contains UK, which makes it a irrelevant column.  \n",
    "Column **'Unnamed: 3'** only ever contains NaN, which makes it a irrelevant column"
   ]
  },
  {
   "cell_type": "code",
   "execution_count": 3,
   "id": "174aee94",
   "metadata": {},
   "outputs": [
    {
     "name": "stdout",
     "output_type": "stream",
     "text": [
      "['UK']\n",
      "[nan]\n"
     ]
    }
   ],
   "source": [
    "print(original_data['Unnamed: 1'].unique())\n",
    "print(original_data['Unnamed: 3'].unique())\n",
    "\n",
    "clean_data = original_data.drop(labels = ['Unnamed: 1', 'Unnamed: 3'], axis = 1)"
   ]
  },
  {
   "cell_type": "markdown",
   "id": "9df4ff64",
   "metadata": {},
   "source": [
    "Checking which columns contain NaN values:"
   ]
  },
  {
   "cell_type": "code",
   "execution_count": 4,
   "id": "87866851",
   "metadata": {},
   "outputs": [
    {
     "data": {
      "text/plain": [
       "{'Date Time': 0,\n",
       " 'Unnamed: 2': 0,\n",
       " 'Event': 0,\n",
       " 'Unnamed: 5': 310,\n",
       " 'Survey': 310,\n",
       " 'Actual': 310,\n",
       " 'Prior': 310,\n",
       " 'Revised': 364,\n",
       " 'Relevance': 450,\n",
       " 'Ticker': 2195}"
      ]
     },
     "execution_count": 4,
     "metadata": {},
     "output_type": "execute_result"
    }
   ],
   "source": [
    "result = {}\n",
    "for col in clean_data.columns:\n",
    "    result[col] = clean_data[col].isna().sum()\n",
    "result"
   ]
  },
  {
   "cell_type": "markdown",
   "id": "bda870f6",
   "metadata": {},
   "source": [
    "What is the meaning of Ticker? - If it does not matter then we can include more rows in this data"
   ]
  },
  {
   "cell_type": "code",
   "execution_count": 5,
   "id": "84c906d2",
   "metadata": {},
   "outputs": [
    {
     "data": {
      "text/plain": [
       "array([nan, 'UKMSVTVJ Index', 'UKMSVTVX Index', 'UKMSM41M Index',\n",
       "       'UKMSM41Y Index', 'MPMIGBMA Index', 'MPMIGBXA Index',\n",
       "       'MPMIGBSA Index', 'UKCR Index', 'UKVHRYY Index', 'UKBRBASE Index',\n",
       "       'UKAPTARG Index', 'UKRXPBAL Index', 'UKTBALEE Index',\n",
       "       'UKTBLGDT Index', 'UKTBTTBA Index', 'UKIPIMOM Index',\n",
       "       'UKIPIYOY Index', 'UKMPIMOM Index', 'UKMPIYOY Index',\n",
       "       'UKRMNAPM Index', 'UKRMNAPY Index', 'UKRPCJMR Index',\n",
       "       'UKRPCJYR Index', 'UKHCA9IQ Index', 'UKRPI Index', 'UKRPMOM Index',\n",
       "       'UKRPYOY Index', 'UKRPXYOY Index', 'UKUER Index', 'UKUEMOM Index',\n",
       "       'UKUEILOR Index', 'UKPSBR Index', 'UKPSNB Index', 'UKRVAMOM Index',\n",
       "       'UKRVAYOY Index', 'UKGRABIQ Index', 'UKGRABIY Index',\n",
       "       'UKISCT3M Index', 'UKCCI Index', 'UKNBAAMM Index',\n",
       "       'UKNBANYY Index', 'UKAWMWHO Index', 'UKAWXTOM Index',\n",
       "       'UKBINPEQ Index', 'UKBINPEY Index', 'UKGEABRQ Index',\n",
       "       'UKGENMYQ Index', 'UKGENPTQ Index', 'UKGEIKKQ Index',\n",
       "       'UKGEIKLQ Index', 'UKRVINFM Index', 'UKRVINFY Index', 'UKCA Index',\n",
       "       'MTEF1C Index', 'ITSR1B Index', 'UKMS4QG Index', 'DTSRR1RB Index',\n",
       "       'UKPSJ5II Index', 'UKISCTMM Index', 'KPRSLFLS Index',\n",
       "       'BRCPALLY Index', 'MTEF4C Index', 'UKBFFTIN Index',\n",
       "       'UKLFEMCH Index', 'UKMSB3PS Index', 'UKCNALSM Index',\n",
       "       'UKCNALSY Index', 'MPMIGBCA Index', 'UKPSM98R Index',\n",
       "       'LTSBBSBX Index', 'UKMWDMWN Index', 'DTSDD1RB Index',\n",
       "       'UKLHUKY Index', 'UKAPCBPT Index', 'UKHCCPIY Index',\n",
       "       'UKGDM3 Index', 'UKGDM3M Index', 'UKMSB4TC Index',\n",
       "       'UKPRLZVD Index', 'UKPPB7SM Index', 'UKPPB7SY Index',\n",
       "       'UKPPHIPM Index', 'UKPPHIPY Index'], dtype=object)"
      ]
     },
     "execution_count": 5,
     "metadata": {},
     "output_type": "execute_result"
    }
   ],
   "source": [
    "clean_data['Ticker'].unique()"
   ]
  },
  {
   "cell_type": "markdown",
   "id": "149861c2",
   "metadata": {},
   "source": [
    "Column name Unnamed: 5 is very unstructured and unsure what it means:"
   ]
  },
  {
   "cell_type": "code",
   "execution_count": 6,
   "id": "b235f63c",
   "metadata": {},
   "outputs": [
    {
     "data": {
      "text/plain": [
       "array(['Nov', 'Nov F', 'Dec', nan, '07-Jan', 'Jan', 'Dec P', '4Q A',\n",
       "       'Dec F', '04-Feb', 'Feb', 'Jan P', '4Q P', 'Jan F', '04-Mar',\n",
       "       'Mar', 'Feb P', '4Q F', 'Feb F', '4Q', 'Apr', '08-Apr', 'Mar P',\n",
       "       '1Q A', 'Mar F', 'May', '10-May', '1Q P', 'Apr P', 'Apr F', 'Jun',\n",
       "       '10-Jun', 'May P', 'May F', '1Q F', 'Jul', '08-Jul', '1Q', 'Jun P',\n",
       "       '2Q A', 'Jun F', 'Aug', '05-Aug', 'Jul P', '2Q P', 'Jul F', 'Sep',\n",
       "       '09-Sep', 'Aug P', '2Q F', '2Q', 'Aug F', '07-Oct', 'Oct', 'Sep P',\n",
       "       '3Q A', 'Sep F', '04-Nov', '3Q P', '09-Dec', '3Q F', '3Q',\n",
       "       '13-Jan', '10-Feb', '10-Mar', '07-Apr', '05-May', '09-Jun',\n",
       "       '07-Jul', '04-Aug', '08-Sep', '06-Oct', '10-Nov', '08-Dec',\n",
       "       '12-Jan', '09-Feb', '08-Mar', '05-Apr', '07-Jun', '05-Jul',\n",
       "       '02-Aug', '06-Sep', '04-Oct', '08-Nov', '06-Dec', '10-Jan',\n",
       "       '07-Feb', '07-Mar', '04-Apr', '09-May', '06-Jun', '04-Jul',\n",
       "       '01-Aug', '05-Sep', '10-Oct', '07-Nov', '05-Dec', '09-Jan',\n",
       "       '06-Feb', '06-Mar', '10-Apr', '08-May', '05-Jun', '10-Jul',\n",
       "       '07-Aug', '04-Sep', '09-Oct', '06-Nov', '04-Dec', '08-Jan',\n",
       "       '05-Feb', '05-Mar', '09-Apr', '11-May', '04-Jun', '09-Jul',\n",
       "       '06-Aug', '10-Sep', '08-Oct', '05-Nov', '10-Dec', '14-Jan',\n",
       "       '17-Mar', '14-Apr', '12-May', '16-Jun', '14-Jul', '15-Sep',\n",
       "       '03-Nov', '15-Dec', '02-Feb', '16-Mar', '15-Jun', '03-Aug',\n",
       "       '14-Sep', '02-Nov', '14-Dec', '08-Feb', '22-Mar', '21-Jun',\n",
       "       '13-Sep', '01-Nov', '20-Dec', '21-Mar', '02-May', '20-Jun',\n",
       "       '19-Sep', 'Nov P', '19-Dec', '30-Jan', '11-Mar', '19-Mar',\n",
       "       '26-Mar', '07-May', '18-Jun', '17-Sep', 'Oct P', 'Oct F', '17-Dec',\n",
       "       '18-Mar', '06-May', '24-Jun', '23-Sep', '16-Dec', '03-Feb'],\n",
       "      dtype=object)"
      ]
     },
     "execution_count": 6,
     "metadata": {},
     "output_type": "execute_result"
    }
   ],
   "source": [
    "clean_data['Unnamed: 5'].unique()"
   ]
  },
  {
   "cell_type": "markdown",
   "id": "cfd4b506",
   "metadata": {},
   "source": [
    "A lot of missing data:"
   ]
  },
  {
   "cell_type": "code",
   "execution_count": 7,
   "id": "3a4ffae3",
   "metadata": {},
   "outputs": [
    {
     "name": "stdout",
     "output_type": "stream",
     "text": [
      "2189\n",
      "565\n",
      "530\n",
      "4520\n"
     ]
    }
   ],
   "source": [
    "print(len(clean_data[clean_data['Survey'] == '--']))\n",
    "print(len(clean_data[clean_data['Actual'] == '--']))\n",
    "print(len(clean_data[clean_data['Prior'] == '--']))\n",
    "print(len(clean_data[clean_data['Revised'] == '--']))"
   ]
  },
  {
   "cell_type": "markdown",
   "id": "09d7212f",
   "metadata": {},
   "source": [
    "Formatting Date Time column:"
   ]
  },
  {
   "cell_type": "code",
   "execution_count": 8,
   "id": "bc5cafe9",
   "metadata": {},
   "outputs": [
    {
     "name": "stdout",
     "output_type": "stream",
     "text": [
      "1\n"
     ]
    }
   ],
   "source": [
    "count = 0\n",
    "for i in range(len(clean_data)):\n",
    "    try:\n",
    "        clean_data['Date Time'][i] = pd.to_datetime(clean_data['Date Time'][i])\n",
    "    except ValueError:\n",
    "        count += 1\n",
    "print(count)"
   ]
  },
  {
   "cell_type": "code",
   "execution_count": 9,
   "id": "39707a82",
   "metadata": {},
   "outputs": [
    {
     "data": {
      "text/html": [
       "<div>\n",
       "<style scoped>\n",
       "    .dataframe tbody tr th:only-of-type {\n",
       "        vertical-align: middle;\n",
       "    }\n",
       "\n",
       "    .dataframe tbody tr th {\n",
       "        vertical-align: top;\n",
       "    }\n",
       "\n",
       "    .dataframe thead th {\n",
       "        text-align: right;\n",
       "    }\n",
       "</style>\n",
       "<table border=\"1\" class=\"dataframe\">\n",
       "  <thead>\n",
       "    <tr style=\"text-align: right;\">\n",
       "      <th></th>\n",
       "      <th>Date Time</th>\n",
       "      <th>Unnamed: 2</th>\n",
       "      <th>Event</th>\n",
       "      <th>Unnamed: 5</th>\n",
       "      <th>Survey</th>\n",
       "      <th>Actual</th>\n",
       "      <th>Prior</th>\n",
       "      <th>Revised</th>\n",
       "      <th>Relevance</th>\n",
       "      <th>Ticker</th>\n",
       "    </tr>\n",
       "  </thead>\n",
       "  <tbody>\n",
       "    <tr>\n",
       "      <th>11318</th>\n",
       "      <td>02/01/2022 01/14</td>\n",
       "      <td>1324)</td>\n",
       "      <td>Unit Labor Costs YoY</td>\n",
       "      <td>3Q</td>\n",
       "      <td>--</td>\n",
       "      <td>--</td>\n",
       "      <td>-3.80%</td>\n",
       "      <td>--</td>\n",
       "      <td>10.7143</td>\n",
       "      <td>UKMWDMWN Index</td>\n",
       "    </tr>\n",
       "  </tbody>\n",
       "</table>\n",
       "</div>"
      ],
      "text/plain": [
       "              Date Time Unnamed: 2                 Event Unnamed: 5 Survey  \\\n",
       "11318  02/01/2022 01/14      1324)  Unit Labor Costs YoY         3Q     --   \n",
       "\n",
       "      Actual   Prior Revised Relevance          Ticker  \n",
       "11318     --  -3.80%      --   10.7143  UKMWDMWN Index  "
      ]
     },
     "execution_count": 9,
     "metadata": {},
     "output_type": "execute_result"
    }
   ],
   "source": [
    "clean_data[clean_data['Date Time'].apply(lambda x: isinstance(x, str))]"
   ]
  },
  {
   "cell_type": "markdown",
   "id": "65828b67",
   "metadata": {},
   "source": [
    "#### Reusable function for formatting date time:"
   ]
  },
  {
   "cell_type": "code",
   "execution_count": 10,
   "id": "4f1d5da4",
   "metadata": {},
   "outputs": [],
   "source": [
    "def format_date(df, column_name):\n",
    "    err = 0\n",
    "    for i in range(len(df)):\n",
    "        try:\n",
    "            df[column_name][i] = pd.to_datetime(df[column_name][i])\n",
    "        except ValueError:\n",
    "            err += 1\n",
    "    return err"
   ]
  },
  {
   "cell_type": "code",
   "execution_count": 11,
   "id": "a76db9c6",
   "metadata": {},
   "outputs": [
    {
     "data": {
      "text/plain": [
       "1"
      ]
     },
     "execution_count": 11,
     "metadata": {},
     "output_type": "execute_result"
    }
   ],
   "source": [
    "format_date(clean_data, 'Date Time')"
   ]
  },
  {
   "cell_type": "code",
   "execution_count": null,
   "id": "da0206f1",
   "metadata": {},
   "outputs": [],
   "source": []
  }
 ],
 "metadata": {
  "kernelspec": {
   "display_name": "Python 3 (ipykernel)",
   "language": "python",
   "name": "python3"
  },
  "language_info": {
   "codemirror_mode": {
    "name": "ipython",
    "version": 3
   },
   "file_extension": ".py",
   "mimetype": "text/x-python",
   "name": "python",
   "nbconvert_exporter": "python",
   "pygments_lexer": "ipython3",
   "version": "3.8.12"
  }
 },
 "nbformat": 4,
 "nbformat_minor": 5
}
