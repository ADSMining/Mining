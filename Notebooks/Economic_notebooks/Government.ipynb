{
 "cells": [
  {
   "cell_type": "markdown",
   "id": "28cc638b",
   "metadata": {},
   "source": [
    "# Notebook for looking at the Government.csv"
   ]
  },
  {
   "cell_type": "code",
   "execution_count": 99,
   "id": "adb45dd2",
   "metadata": {
    "pycharm": {
     "is_executing": true
    }
   },
   "outputs": [],
   "source": [
    "import pandas as pd \n",
    "import datetime as datetime"
   ]
  },
  {
   "cell_type": "code",
   "execution_count": 26,
   "id": "2dc3562f",
   "metadata": {
    "pycharm": {
     "is_executing": true
    },
    "scrolled": true
   },
   "outputs": [
    {
     "name": "stdout",
     "output_type": "stream",
     "text": [
      "Date Time\n",
      "Unnamed: 1\n",
      "Unnamed: 2\n",
      "Unnamed: 3\n",
      "Event\n"
     ]
    },
    {
     "data": {
      "text/html": [
       "<div>\n",
       "<style scoped>\n",
       "    .dataframe tbody tr th:only-of-type {\n",
       "        vertical-align: middle;\n",
       "    }\n",
       "\n",
       "    .dataframe tbody tr th {\n",
       "        vertical-align: top;\n",
       "    }\n",
       "\n",
       "    .dataframe thead th {\n",
       "        text-align: right;\n",
       "    }\n",
       "</style>\n",
       "<table border=\"1\" class=\"dataframe\">\n",
       "  <thead>\n",
       "    <tr style=\"text-align: right;\">\n",
       "      <th></th>\n",
       "      <th>Date Time</th>\n",
       "      <th>Unnamed: 1</th>\n",
       "      <th>Unnamed: 2</th>\n",
       "      <th>Unnamed: 3</th>\n",
       "      <th>Event</th>\n",
       "    </tr>\n",
       "  </thead>\n",
       "  <tbody>\n",
       "    <tr>\n",
       "      <th>0</th>\n",
       "      <td>01/02/2000 10:00</td>\n",
       "      <td>UK</td>\n",
       "      <td>1)</td>\n",
       "      <td>NaN</td>\n",
       "      <td>Prime Minister's Question Time</td>\n",
       "    </tr>\n",
       "    <tr>\n",
       "      <th>1</th>\n",
       "      <td>01/10/2000 09:30</td>\n",
       "      <td>UK</td>\n",
       "      <td>2)</td>\n",
       "      <td>NaN</td>\n",
       "      <td>Social Security Secretary Answers Questions in...</td>\n",
       "    </tr>\n",
       "    <tr>\n",
       "      <th>2</th>\n",
       "      <td>01/10/2000</td>\n",
       "      <td>UK</td>\n",
       "      <td>3)</td>\n",
       "      <td>NaN</td>\n",
       "      <td>Houses of Parliament Resume Sitting</td>\n",
       "    </tr>\n",
       "    <tr>\n",
       "      <th>3</th>\n",
       "      <td>01/11/2000 09:30</td>\n",
       "      <td>UK</td>\n",
       "      <td>4)</td>\n",
       "      <td>NaN</td>\n",
       "      <td>Transport Secretary Answers Questions in Parli...</td>\n",
       "    </tr>\n",
       "    <tr>\n",
       "      <th>4</th>\n",
       "      <td>01/12/2000 10:00</td>\n",
       "      <td>UK</td>\n",
       "      <td>5)</td>\n",
       "      <td>NaN</td>\n",
       "      <td>Prime Minister's Question Time</td>\n",
       "    </tr>\n",
       "    <tr>\n",
       "      <th>...</th>\n",
       "      <td>...</td>\n",
       "      <td>...</td>\n",
       "      <td>...</td>\n",
       "      <td>...</td>\n",
       "      <td>...</td>\n",
       "    </tr>\n",
       "    <tr>\n",
       "      <th>4123</th>\n",
       "      <td>10/03/2021 10/06</td>\n",
       "      <td>UK</td>\n",
       "      <td>4124)</td>\n",
       "      <td>NaN</td>\n",
       "      <td>Conservative Party Conference in Manchester</td>\n",
       "    </tr>\n",
       "    <tr>\n",
       "      <th>4124</th>\n",
       "      <td>10/27/2021 07:30</td>\n",
       "      <td>UK</td>\n",
       "      <td>4125)</td>\n",
       "      <td>NaN</td>\n",
       "      <td>U.K. Budget</td>\n",
       "    </tr>\n",
       "    <tr>\n",
       "      <th>4125</th>\n",
       "      <td>11/01/2021 07:00</td>\n",
       "      <td>UK</td>\n",
       "      <td>4126)</td>\n",
       "      <td>NaN</td>\n",
       "      <td>U.K. OBR chiefs testify</td>\n",
       "    </tr>\n",
       "    <tr>\n",
       "      <th>4126</th>\n",
       "      <td>11/01/2021 11:15</td>\n",
       "      <td>UK</td>\n",
       "      <td>4127)</td>\n",
       "      <td>NaN</td>\n",
       "      <td>U.K. Chancellor of the Exchequer Rishi Sunak t...</td>\n",
       "    </tr>\n",
       "    <tr>\n",
       "      <th>4127</th>\n",
       "      <td>11/02/2021 11:00</td>\n",
       "      <td>UK</td>\n",
       "      <td>4128)</td>\n",
       "      <td>NaN</td>\n",
       "      <td>U.K.'s Sunak testifies on budget</td>\n",
       "    </tr>\n",
       "  </tbody>\n",
       "</table>\n",
       "<p>4128 rows × 5 columns</p>\n",
       "</div>"
      ],
      "text/plain": [
       "             Date Time Unnamed: 1 Unnamed: 2  Unnamed: 3  \\\n",
       "0     01/02/2000 10:00         UK         1)         NaN   \n",
       "1     01/10/2000 09:30         UK         2)         NaN   \n",
       "2           01/10/2000         UK         3)         NaN   \n",
       "3     01/11/2000 09:30         UK         4)         NaN   \n",
       "4     01/12/2000 10:00         UK         5)         NaN   \n",
       "...                ...        ...        ...         ...   \n",
       "4123  10/03/2021 10/06         UK      4124)         NaN   \n",
       "4124  10/27/2021 07:30         UK      4125)         NaN   \n",
       "4125  11/01/2021 07:00         UK      4126)         NaN   \n",
       "4126  11/01/2021 11:15         UK      4127)         NaN   \n",
       "4127  11/02/2021 11:00         UK      4128)         NaN   \n",
       "\n",
       "                                                  Event  \n",
       "0                        Prime Minister's Question Time  \n",
       "1     Social Security Secretary Answers Questions in...  \n",
       "2                   Houses of Parliament Resume Sitting  \n",
       "3     Transport Secretary Answers Questions in Parli...  \n",
       "4                        Prime Minister's Question Time  \n",
       "...                                                 ...  \n",
       "4123        Conservative Party Conference in Manchester  \n",
       "4124                                        U.K. Budget  \n",
       "4125                            U.K. OBR chiefs testify  \n",
       "4126  U.K. Chancellor of the Exchequer Rishi Sunak t...  \n",
       "4127                   U.K.'s Sunak testifies on budget  \n",
       "\n",
       "[4128 rows x 5 columns]"
      ]
     },
     "execution_count": 26,
     "metadata": {},
     "output_type": "execute_result"
    }
   ],
   "source": [
    "input_data = pd.read_csv('../../Notebooks/Datasets/Economic_dataset/Government.csv')\n",
    "for col in input_data.columns:\n",
    "    print(col)\n",
    "input_data"
   ]
  },
  {
   "cell_type": "markdown",
   "id": "f30896f2",
   "metadata": {},
   "source": [
    "## Data Wrangling "
   ]
  },
  {
   "cell_type": "markdown",
   "id": "c07753f7",
   "metadata": {},
   "source": [
    "Checking for unique values in the Unamed Fields"
   ]
  },
  {
   "cell_type": "code",
   "execution_count": 27,
   "id": "93035bb1",
   "metadata": {
    "pycharm": {
     "is_executing": true
    }
   },
   "outputs": [
    {
     "name": "stdout",
     "output_type": "stream",
     "text": [
      "\n",
      " Unique Data in Unnamed 1: \n",
      "\n",
      "['UK' 'EC' 'PD' 'GE' 'FR' 'HU' 'UA' 'US' 'AU' 'SZ' 'IR' 'RU' 'AF' 'BE'\n",
      " 'IT' 'CA' 'DE' 'SQ' 'WW' 'MC' 'PO' 'HK' 'PK' 'NO' 'AR' 'CH' 'CL' 'JN'\n",
      " 'MX' 'RR' 'SA' 'SW' 'IN' 'IA' 'SP' 'FI' 'ED' 'QA' 'CC' 'SK' 'NE' 'ID'\n",
      " 'AS']\n",
      "\n",
      " Unique Data in Unnamed 2: \n",
      "\n",
      "['1)' '2)' '3)' ... '4126)' '4127)' '4128)']\n",
      "\n",
      " Unique Data in Unnamed 3: \n",
      "\n",
      "[nan]\n"
     ]
    }
   ],
   "source": [
    "print('\\n Unique Data in Unnamed 1: \\n')\n",
    "print(input_data['Unnamed: 1'].unique())\n",
    "print('\\n Unique Data in Unnamed 2: \\n')\n",
    "print(input_data['Unnamed: 2'].unique())\n",
    "print('\\n Unique Data in Unnamed 3: \\n')\n",
    "print(input_data['Unnamed: 3'].unique())"
   ]
  },
  {
   "cell_type": "markdown",
   "id": "8e9dcd2a",
   "metadata": {},
   "source": [
    " Drop 'Unnamed 3', as it only includes 'nan' values, and 'Unnamed 2' as its contents is not relevant. "
   ]
  },
  {
   "cell_type": "code",
   "execution_count": 28,
   "id": "e52ddfde",
   "metadata": {
    "pycharm": {
     "is_executing": true
    }
   },
   "outputs": [
    {
     "data": {
      "text/html": [
       "<div>\n",
       "<style scoped>\n",
       "    .dataframe tbody tr th:only-of-type {\n",
       "        vertical-align: middle;\n",
       "    }\n",
       "\n",
       "    .dataframe tbody tr th {\n",
       "        vertical-align: top;\n",
       "    }\n",
       "\n",
       "    .dataframe thead th {\n",
       "        text-align: right;\n",
       "    }\n",
       "</style>\n",
       "<table border=\"1\" class=\"dataframe\">\n",
       "  <thead>\n",
       "    <tr style=\"text-align: right;\">\n",
       "      <th></th>\n",
       "      <th>Date Time</th>\n",
       "      <th>Unnamed: 1</th>\n",
       "      <th>Event</th>\n",
       "    </tr>\n",
       "  </thead>\n",
       "  <tbody>\n",
       "    <tr>\n",
       "      <th>0</th>\n",
       "      <td>01/02/2000 10:00</td>\n",
       "      <td>UK</td>\n",
       "      <td>Prime Minister's Question Time</td>\n",
       "    </tr>\n",
       "    <tr>\n",
       "      <th>1</th>\n",
       "      <td>01/10/2000 09:30</td>\n",
       "      <td>UK</td>\n",
       "      <td>Social Security Secretary Answers Questions in...</td>\n",
       "    </tr>\n",
       "    <tr>\n",
       "      <th>2</th>\n",
       "      <td>01/10/2000</td>\n",
       "      <td>UK</td>\n",
       "      <td>Houses of Parliament Resume Sitting</td>\n",
       "    </tr>\n",
       "    <tr>\n",
       "      <th>3</th>\n",
       "      <td>01/11/2000 09:30</td>\n",
       "      <td>UK</td>\n",
       "      <td>Transport Secretary Answers Questions in Parli...</td>\n",
       "    </tr>\n",
       "    <tr>\n",
       "      <th>4</th>\n",
       "      <td>01/12/2000 10:00</td>\n",
       "      <td>UK</td>\n",
       "      <td>Prime Minister's Question Time</td>\n",
       "    </tr>\n",
       "    <tr>\n",
       "      <th>...</th>\n",
       "      <td>...</td>\n",
       "      <td>...</td>\n",
       "      <td>...</td>\n",
       "    </tr>\n",
       "    <tr>\n",
       "      <th>4123</th>\n",
       "      <td>10/03/2021 10/06</td>\n",
       "      <td>UK</td>\n",
       "      <td>Conservative Party Conference in Manchester</td>\n",
       "    </tr>\n",
       "    <tr>\n",
       "      <th>4124</th>\n",
       "      <td>10/27/2021 07:30</td>\n",
       "      <td>UK</td>\n",
       "      <td>U.K. Budget</td>\n",
       "    </tr>\n",
       "    <tr>\n",
       "      <th>4125</th>\n",
       "      <td>11/01/2021 07:00</td>\n",
       "      <td>UK</td>\n",
       "      <td>U.K. OBR chiefs testify</td>\n",
       "    </tr>\n",
       "    <tr>\n",
       "      <th>4126</th>\n",
       "      <td>11/01/2021 11:15</td>\n",
       "      <td>UK</td>\n",
       "      <td>U.K. Chancellor of the Exchequer Rishi Sunak t...</td>\n",
       "    </tr>\n",
       "    <tr>\n",
       "      <th>4127</th>\n",
       "      <td>11/02/2021 11:00</td>\n",
       "      <td>UK</td>\n",
       "      <td>U.K.'s Sunak testifies on budget</td>\n",
       "    </tr>\n",
       "  </tbody>\n",
       "</table>\n",
       "<p>4128 rows × 3 columns</p>\n",
       "</div>"
      ],
      "text/plain": [
       "             Date Time Unnamed: 1  \\\n",
       "0     01/02/2000 10:00         UK   \n",
       "1     01/10/2000 09:30         UK   \n",
       "2           01/10/2000         UK   \n",
       "3     01/11/2000 09:30         UK   \n",
       "4     01/12/2000 10:00         UK   \n",
       "...                ...        ...   \n",
       "4123  10/03/2021 10/06         UK   \n",
       "4124  10/27/2021 07:30         UK   \n",
       "4125  11/01/2021 07:00         UK   \n",
       "4126  11/01/2021 11:15         UK   \n",
       "4127  11/02/2021 11:00         UK   \n",
       "\n",
       "                                                  Event  \n",
       "0                        Prime Minister's Question Time  \n",
       "1     Social Security Secretary Answers Questions in...  \n",
       "2                   Houses of Parliament Resume Sitting  \n",
       "3     Transport Secretary Answers Questions in Parli...  \n",
       "4                        Prime Minister's Question Time  \n",
       "...                                                 ...  \n",
       "4123        Conservative Party Conference in Manchester  \n",
       "4124                                        U.K. Budget  \n",
       "4125                            U.K. OBR chiefs testify  \n",
       "4126  U.K. Chancellor of the Exchequer Rishi Sunak t...  \n",
       "4127                   U.K.'s Sunak testifies on budget  \n",
       "\n",
       "[4128 rows x 3 columns]"
      ]
     },
     "execution_count": 28,
     "metadata": {},
     "output_type": "execute_result"
    }
   ],
   "source": [
    "post_drop = input_data.drop(columns=[\"Unnamed: 2\",\"Unnamed: 3\"])\n",
    "post_drop"
   ]
  },
  {
   "cell_type": "markdown",
   "id": "055eba98",
   "metadata": {},
   "source": [
    "Check for duplicate rows"
   ]
  },
  {
   "cell_type": "code",
   "execution_count": 29,
   "id": "74e4f253",
   "metadata": {
    "pycharm": {
     "is_executing": true
    }
   },
   "outputs": [],
   "source": [
    "no_duplicates= post_drop.drop_duplicates()\n",
    "# vv Test theres no duplicated values vv\n",
    "#no_duplicates[no_duplicates.duplicated() == True]"
   ]
  },
  {
   "cell_type": "markdown",
   "id": "58e0c72f",
   "metadata": {},
   "source": [
    "Checking Date time is in the correct format. If not corvert to the right format"
   ]
  },
  {
   "cell_type": "code",
   "execution_count": 30,
   "id": "3bebc128",
   "metadata": {
    "pycharm": {
     "is_executing": true
    }
   },
   "outputs": [
    {
     "name": "stdout",
     "output_type": "stream",
     "text": [
      "01/10/2000 09:30\n",
      "2000-01-10 09:30:00\n"
     ]
    },
    {
     "name": "stderr",
     "output_type": "stream",
     "text": [
      "C:\\Users\\LUKEBE~1\\AppData\\Local\\Temp/ipykernel_4596/2476841786.py:2: SettingWithCopyWarning: \n",
      "A value is trying to be set on a copy of a slice from a DataFrame\n",
      "\n",
      "See the caveats in the documentation: https://pandas.pydata.org/pandas-docs/stable/user_guide/indexing.html#returning-a-view-versus-a-copy\n",
      "  no_duplicates['Date Time'][1] = pd.to_datetime(no_duplicates['Date Time'][1])\n"
     ]
    }
   ],
   "source": [
    "print(no_duplicates['Date Time'][1])\n",
    "no_duplicates['Date Time'][1] = pd.to_datetime(no_duplicates['Date Time'][1])\n",
    "print(no_duplicates['Date Time'][1])"
   ]
  },
  {
   "cell_type": "code",
   "execution_count": 31,
   "id": "561dfdf7",
   "metadata": {
    "pycharm": {
     "is_executing": true
    }
   },
   "outputs": [
    {
     "name": "stderr",
     "output_type": "stream",
     "text": [
      "C:\\Users\\LUKEBE~1\\AppData\\Local\\Temp/ipykernel_4596/2181392203.py:4: SettingWithCopyWarning: \n",
      "A value is trying to be set on a copy of a slice from a DataFrame\n",
      "\n",
      "See the caveats in the documentation: https://pandas.pydata.org/pandas-docs/stable/user_guide/indexing.html#returning-a-view-versus-a-copy\n",
      "  no_duplicates['Date Time'][i] = pd.to_datetime(no_duplicates['Date Time'][i])\n"
     ]
    },
    {
     "name": "stdout",
     "output_type": "stream",
     "text": [
      "274\n"
     ]
    }
   ],
   "source": [
    "\n",
    "count = 0\n",
    "for i in range(len(no_duplicates)):\n",
    "    try:\n",
    "        no_duplicates['Date Time'][i] = pd.to_datetime(no_duplicates['Date Time'][i])\n",
    "    except (ValueError, KeyError):\n",
    "        count += 1\n",
    "print(count)"
   ]
  },
  {
   "cell_type": "code",
   "execution_count": null,
   "id": "9069383d",
   "metadata": {
    "pycharm": {
     "is_executing": true
    }
   },
   "outputs": [],
   "source": []
  },
  {
   "cell_type": "markdown",
   "id": "58b86b23",
   "metadata": {},
   "source": [
    "Check the date range "
   ]
  },
  {
   "cell_type": "code",
   "execution_count": 62,
   "id": "f3481cac",
   "metadata": {
    "pycharm": {
     "is_executing": true
    }
   },
   "outputs": [
    {
     "name": "stdout",
     "output_type": "stream",
     "text": [
      "DatetimeIndex(['2000-01-02 10:00:00', '2000-01-03 10:00:00',\n",
      "               '2000-01-04 10:00:00', '2000-01-05 10:00:00',\n",
      "               '2000-01-06 10:00:00', '2000-01-07 10:00:00',\n",
      "               '2000-01-08 10:00:00', '2000-01-09 10:00:00',\n",
      "               '2000-01-10 10:00:00', '2000-01-11 10:00:00',\n",
      "               ...\n",
      "               '2021-10-23 10:00:00', '2021-10-24 10:00:00',\n",
      "               '2021-10-25 10:00:00', '2021-10-26 10:00:00',\n",
      "               '2021-10-27 10:00:00', '2021-10-28 10:00:00',\n",
      "               '2021-10-29 10:00:00', '2021-10-30 10:00:00',\n",
      "               '2021-10-31 10:00:00', '2021-11-01 10:00:00'],\n",
      "              dtype='datetime64[ns]', length=7975, freq='D')\n"
     ]
    }
   ],
   "source": [
    "#no_duplicates['Date Time'] = pd.to_datetime(no_duplicates['Date Time']) # If your Date column is of the type object otherwise skip this\n",
    "#date_range = str(no_duplicates['Date Time']) + ' to ' +str(no_duplicates['Date Time'].dt.date.max())\n",
    "#print(str(no_duplicates['Date Time'].min()))\n",
    "date_range = pd.date_range(no_duplicates['Date Time'][0],no_duplicates['Date Time'][len(no_duplicates['Date Time'])])\n",
    "print(date_range)\n",
    "#date_range = pd.date_range(str(no_duplicates['Date Time'].min()),str(no_duplicates['Date Time'].max()))"
   ]
  },
  {
   "cell_type": "markdown",
   "id": "1a59d150",
   "metadata": {},
   "source": [
    "Average number events per day"
   ]
  },
  {
   "cell_type": "code",
   "execution_count": 71,
   "id": "135cf98e",
   "metadata": {},
   "outputs": [
    {
     "name": "stdout",
     "output_type": "stream",
     "text": [
      "number of events per day: 0.5173667711598746\n",
      "Frequency of an event, is every 1.9328647600581677 days\n"
     ]
    }
   ],
   "source": [
    "#Get the range of days between the first date and the last from previous cell#\n",
    "length = 7975 \n",
    "number_per_day = len(no_duplicates)/length\n",
    "print(\"number of events per day: \" + str(number_per_day))\n",
    "frequency = 1/number_per_day\n",
    "print(\"Frequency of an event, is every \"+str(frequency) +\" days\")"
   ]
  },
  {
   "cell_type": "markdown",
   "id": "94537b35",
   "metadata": {},
   "source": [
    "Type of Events "
   ]
  },
  {
   "cell_type": "code",
   "execution_count": 74,
   "id": "e641d608",
   "metadata": {
    "pycharm": {
     "is_executing": true
    }
   },
   "outputs": [
    {
     "data": {
      "text/html": [
       "<div>\n",
       "<style scoped>\n",
       "    .dataframe tbody tr th:only-of-type {\n",
       "        vertical-align: middle;\n",
       "    }\n",
       "\n",
       "    .dataframe tbody tr th {\n",
       "        vertical-align: top;\n",
       "    }\n",
       "\n",
       "    .dataframe thead th {\n",
       "        text-align: right;\n",
       "    }\n",
       "</style>\n",
       "<table border=\"1\" class=\"dataframe\">\n",
       "  <thead>\n",
       "    <tr style=\"text-align: right;\">\n",
       "      <th></th>\n",
       "      <th>Unnamed: 1</th>\n",
       "      <th>Event</th>\n",
       "    </tr>\n",
       "  </thead>\n",
       "  <tbody>\n",
       "    <tr>\n",
       "      <th>0</th>\n",
       "      <td>UK</td>\n",
       "      <td>Prime Minister's Question Time</td>\n",
       "    </tr>\n",
       "    <tr>\n",
       "      <th>1</th>\n",
       "      <td>UK</td>\n",
       "      <td>Social Security Secretary Answers Questions in...</td>\n",
       "    </tr>\n",
       "    <tr>\n",
       "      <th>2</th>\n",
       "      <td>UK</td>\n",
       "      <td>Houses of Parliament Resume Sitting</td>\n",
       "    </tr>\n",
       "    <tr>\n",
       "      <th>3</th>\n",
       "      <td>UK</td>\n",
       "      <td>Transport Secretary Answers Questions in Parli...</td>\n",
       "    </tr>\n",
       "    <tr>\n",
       "      <th>5</th>\n",
       "      <td>UK</td>\n",
       "      <td>Agriculture Secretary Answers Questions in Par...</td>\n",
       "    </tr>\n",
       "    <tr>\n",
       "      <th>...</th>\n",
       "      <td>...</td>\n",
       "      <td>...</td>\n",
       "    </tr>\n",
       "    <tr>\n",
       "      <th>4121</th>\n",
       "      <td>FR</td>\n",
       "      <td>Group of Seven finance ministers conference call</td>\n",
       "    </tr>\n",
       "    <tr>\n",
       "      <th>4123</th>\n",
       "      <td>UK</td>\n",
       "      <td>Conservative Party Conference in Manchester</td>\n",
       "    </tr>\n",
       "    <tr>\n",
       "      <th>4125</th>\n",
       "      <td>UK</td>\n",
       "      <td>U.K. OBR chiefs testify</td>\n",
       "    </tr>\n",
       "    <tr>\n",
       "      <th>4126</th>\n",
       "      <td>UK</td>\n",
       "      <td>U.K. Chancellor of the Exchequer Rishi Sunak t...</td>\n",
       "    </tr>\n",
       "    <tr>\n",
       "      <th>4127</th>\n",
       "      <td>UK</td>\n",
       "      <td>U.K.'s Sunak testifies on budget</td>\n",
       "    </tr>\n",
       "  </tbody>\n",
       "</table>\n",
       "<p>2874 rows × 2 columns</p>\n",
       "</div>"
      ],
      "text/plain": [
       "     Unnamed: 1                                              Event\n",
       "0            UK                     Prime Minister's Question Time\n",
       "1            UK  Social Security Secretary Answers Questions in...\n",
       "2            UK                Houses of Parliament Resume Sitting\n",
       "3            UK  Transport Secretary Answers Questions in Parli...\n",
       "5            UK  Agriculture Secretary Answers Questions in Par...\n",
       "...         ...                                                ...\n",
       "4121         FR   Group of Seven finance ministers conference call\n",
       "4123         UK        Conservative Party Conference in Manchester\n",
       "4125         UK                            U.K. OBR chiefs testify\n",
       "4126         UK  U.K. Chancellor of the Exchequer Rishi Sunak t...\n",
       "4127         UK                   U.K.'s Sunak testifies on budget\n",
       "\n",
       "[2874 rows x 2 columns]"
      ]
     },
     "execution_count": 74,
     "metadata": {},
     "output_type": "execute_result"
    }
   ],
   "source": [
    "Events = no_duplicates.drop(columns = [\"Date Time\"]).drop_duplicates(\"Event\")\n",
    "Events"
   ]
  },
  {
   "cell_type": "markdown",
   "id": "8c9a6075",
   "metadata": {},
   "source": [
    "# Filtering"
   ]
  },
  {
   "cell_type": "markdown",
   "id": "225d74fe",
   "metadata": {},
   "source": [
    "Filter By Events"
   ]
  },
  {
   "cell_type": "code",
   "execution_count": 75,
   "id": "af1ae65b",
   "metadata": {
    "pycharm": {
     "is_executing": true
    }
   },
   "outputs": [
    {
     "data": {
      "text/html": [
       "<div>\n",
       "<style scoped>\n",
       "    .dataframe tbody tr th:only-of-type {\n",
       "        vertical-align: middle;\n",
       "    }\n",
       "\n",
       "    .dataframe tbody tr th {\n",
       "        vertical-align: top;\n",
       "    }\n",
       "\n",
       "    .dataframe thead th {\n",
       "        text-align: right;\n",
       "    }\n",
       "</style>\n",
       "<table border=\"1\" class=\"dataframe\">\n",
       "  <thead>\n",
       "    <tr style=\"text-align: right;\">\n",
       "      <th></th>\n",
       "      <th>Date Time</th>\n",
       "      <th>Unnamed: 1</th>\n",
       "      <th>Event</th>\n",
       "    </tr>\n",
       "  </thead>\n",
       "  <tbody>\n",
       "    <tr>\n",
       "      <th>447</th>\n",
       "      <td>2004-04-22 03:45:00</td>\n",
       "      <td>UK</td>\n",
       "      <td>U.K. Labour Party Holds Election News Conference</td>\n",
       "    </tr>\n",
       "    <tr>\n",
       "      <th>693</th>\n",
       "      <td>2005-04-12 03:39:00</td>\n",
       "      <td>UK</td>\n",
       "      <td>U.K. Labour Party Holds Election News Conference</td>\n",
       "    </tr>\n",
       "    <tr>\n",
       "      <th>700</th>\n",
       "      <td>2005-04-14 22:00:00</td>\n",
       "      <td>UK</td>\n",
       "      <td>U.K. Labour Party Holds Election News Conference</td>\n",
       "    </tr>\n",
       "    <tr>\n",
       "      <th>706</th>\n",
       "      <td>2005-04-18 04:32:00</td>\n",
       "      <td>UK</td>\n",
       "      <td>U.K. Labour Party Holds Election News Conference</td>\n",
       "    </tr>\n",
       "    <tr>\n",
       "      <th>710</th>\n",
       "      <td>2005-04-19 05:40:00</td>\n",
       "      <td>UK</td>\n",
       "      <td>U.K. Labour Party Holds Election News Conference</td>\n",
       "    </tr>\n",
       "    <tr>\n",
       "      <th>712</th>\n",
       "      <td>2005-04-20 04:10:00</td>\n",
       "      <td>UK</td>\n",
       "      <td>U.K. Labour Party Holds Election News Conference</td>\n",
       "    </tr>\n",
       "    <tr>\n",
       "      <th>714</th>\n",
       "      <td>2005-04-21 03:32:00</td>\n",
       "      <td>UK</td>\n",
       "      <td>U.K. Labour Party Holds Election News Conference</td>\n",
       "    </tr>\n",
       "    <tr>\n",
       "      <th>720</th>\n",
       "      <td>2005-04-25 03:30:00</td>\n",
       "      <td>UK</td>\n",
       "      <td>U.K. Labour Party Holds Election News Conference</td>\n",
       "    </tr>\n",
       "    <tr>\n",
       "      <th>724</th>\n",
       "      <td>2005-04-26 03:15:00</td>\n",
       "      <td>UK</td>\n",
       "      <td>U.K. Labour Party Holds Election News Conference</td>\n",
       "    </tr>\n",
       "    <tr>\n",
       "      <th>728</th>\n",
       "      <td>2005-04-27 05:00:00</td>\n",
       "      <td>UK</td>\n",
       "      <td>U.K. Labour Party Holds Election News Conference</td>\n",
       "    </tr>\n",
       "    <tr>\n",
       "      <th>729</th>\n",
       "      <td>2005-04-27 05:34:00</td>\n",
       "      <td>UK</td>\n",
       "      <td>U.K. Labour Party Holds Election News Conference</td>\n",
       "    </tr>\n",
       "  </tbody>\n",
       "</table>\n",
       "</div>"
      ],
      "text/plain": [
       "               Date Time Unnamed: 1  \\\n",
       "447  2004-04-22 03:45:00         UK   \n",
       "693  2005-04-12 03:39:00         UK   \n",
       "700  2005-04-14 22:00:00         UK   \n",
       "706  2005-04-18 04:32:00         UK   \n",
       "710  2005-04-19 05:40:00         UK   \n",
       "712  2005-04-20 04:10:00         UK   \n",
       "714  2005-04-21 03:32:00         UK   \n",
       "720  2005-04-25 03:30:00         UK   \n",
       "724  2005-04-26 03:15:00         UK   \n",
       "728  2005-04-27 05:00:00         UK   \n",
       "729  2005-04-27 05:34:00         UK   \n",
       "\n",
       "                                                Event  \n",
       "447  U.K. Labour Party Holds Election News Conference  \n",
       "693  U.K. Labour Party Holds Election News Conference  \n",
       "700  U.K. Labour Party Holds Election News Conference  \n",
       "706  U.K. Labour Party Holds Election News Conference  \n",
       "710  U.K. Labour Party Holds Election News Conference  \n",
       "712  U.K. Labour Party Holds Election News Conference  \n",
       "714  U.K. Labour Party Holds Election News Conference  \n",
       "720  U.K. Labour Party Holds Election News Conference  \n",
       "724  U.K. Labour Party Holds Election News Conference  \n",
       "728  U.K. Labour Party Holds Election News Conference  \n",
       "729  U.K. Labour Party Holds Election News Conference  "
      ]
     },
     "execution_count": 75,
     "metadata": {},
     "output_type": "execute_result"
    }
   ],
   "source": [
    "event = \"U.K. Labour Party Holds Election News Conference\" #Type of event\n",
    "filtered_by_event = no_duplicates[no_duplicates[\"Event\"] == event]\n",
    "filtered_by_event"
   ]
  },
  {
   "cell_type": "markdown",
   "id": "3e747306",
   "metadata": {},
   "source": [
    "Filter By Date"
   ]
  },
  {
   "cell_type": "code",
   "execution_count": 100,
   "id": "1598e404",
   "metadata": {
    "pycharm": {
     "is_executing": true
    }
   },
   "outputs": [
    {
     "name": "stderr",
     "output_type": "stream",
     "text": [
      "G:\\Anaconda\\envs\\pythonProject1\\lib\\site-packages\\pandas\\core\\ops\\array_ops.py:73: FutureWarning: Comparison of Timestamp with datetime.date is deprecated in order to match the standard library behavior. In a future version these will be considered non-comparable. Use 'ts == pd.Timestamp(date)' or 'ts.date() == date' instead.\n",
      "  result = libops.scalar_compare(x.ravel(), y, op)\n"
     ]
    },
    {
     "data": {
      "text/html": [
       "<div>\n",
       "<style scoped>\n",
       "    .dataframe tbody tr th:only-of-type {\n",
       "        vertical-align: middle;\n",
       "    }\n",
       "\n",
       "    .dataframe tbody tr th {\n",
       "        vertical-align: top;\n",
       "    }\n",
       "\n",
       "    .dataframe thead th {\n",
       "        text-align: right;\n",
       "    }\n",
       "</style>\n",
       "<table border=\"1\" class=\"dataframe\">\n",
       "  <thead>\n",
       "    <tr style=\"text-align: right;\">\n",
       "      <th></th>\n",
       "      <th>Date Time</th>\n",
       "      <th>Unnamed: 1</th>\n",
       "      <th>Event</th>\n",
       "    </tr>\n",
       "  </thead>\n",
       "  <tbody>\n",
       "    <tr>\n",
       "      <th>320</th>\n",
       "      <td>2001-11-20 04:30:00</td>\n",
       "      <td>UK</td>\n",
       "      <td>Budget Deficit Figures</td>\n",
       "    </tr>\n",
       "    <tr>\n",
       "      <th>321</th>\n",
       "      <td>2001-11-20 09:30:00</td>\n",
       "      <td>UK</td>\n",
       "      <td>Transport, Local Government, Regions Questions...</td>\n",
       "    </tr>\n",
       "  </tbody>\n",
       "</table>\n",
       "</div>"
      ],
      "text/plain": [
       "               Date Time Unnamed: 1  \\\n",
       "320  2001-11-20 04:30:00         UK   \n",
       "321  2001-11-20 09:30:00         UK   \n",
       "\n",
       "                                                 Event  \n",
       "320                             Budget Deficit Figures  \n",
       "321  Transport, Local Government, Regions Questions...  "
      ]
     },
     "execution_count": 100,
     "metadata": {},
     "output_type": "execute_result"
    }
   ],
   "source": [
    "Day = 20\n",
    "Month = 11\n",
    "Year = 2001\n",
    "filtered_by_date = no_duplicates[no_duplicates['Date Time']==datetime.date(Year,Month,Day)]\n",
    "filtered_by_date\n",
    "#import datetime"
   ]
  }
 ],
 "metadata": {
  "kernelspec": {
   "display_name": "Python 3",
   "language": "python",
   "name": "python3"
  },
  "language_info": {
   "codemirror_mode": {
    "name": "ipython",
    "version": 3
   },
   "file_extension": ".py",
   "mimetype": "text/x-python",
   "name": "python",
   "nbconvert_exporter": "python",
   "pygments_lexer": "ipython3",
   "version": "3.9.7"
  }
 },
 "nbformat": 4,
 "nbformat_minor": 5
}
