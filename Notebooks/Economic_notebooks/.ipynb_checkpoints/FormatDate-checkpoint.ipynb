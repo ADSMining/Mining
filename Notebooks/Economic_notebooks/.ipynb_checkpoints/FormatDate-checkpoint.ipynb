{
 "cells": [
  {
   "cell_type": "code",
   "execution_count": 3,
   "id": "d5c6734a",
   "metadata": {},
   "outputs": [],
   "source": [
    "import pandas as pd"
   ]
  },
  {
   "cell_type": "code",
   "execution_count": 5,
   "id": "7c5d8db8",
   "metadata": {},
   "outputs": [],
   "source": [
    "def format_date(df, column_name, format_string):\n",
    "    err = 0\n",
    "    for i in range(len(df)):\n",
    "        try:\n",
    "            df[column_name][i] = pd.to_datetime(df[column_name][i], format = format_string)\n",
    "        except ValueError:\n",
    "            err += 1\n",
    "    return err"
   ]
  },
  {
   "cell_type": "code",
   "execution_count": null,
   "id": "49188790",
   "metadata": {},
   "outputs": [],
   "source": []
  }
 ],
 "metadata": {
  "kernelspec": {
   "display_name": "Python 3 (ipykernel)",
   "language": "python",
   "name": "python3"
  },
  "language_info": {
   "codemirror_mode": {
    "name": "ipython",
    "version": 3
   },
   "file_extension": ".py",
   "mimetype": "text/x-python",
   "name": "python",
   "nbconvert_exporter": "python",
   "pygments_lexer": "ipython3",
   "version": "3.8.12"
  }
 },
 "nbformat": 4,
 "nbformat_minor": 5
}
