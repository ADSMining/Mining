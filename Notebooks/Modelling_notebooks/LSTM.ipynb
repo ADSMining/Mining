{
 "cells": [
  {
   "cell_type": "code",
   "execution_count": null,
   "id": "2b7b95e4",
   "metadata": {},
   "outputs": [],
   "source": [
    "import pandas as pd\n",
    "import numpy as np\n",
    "import matplotlib.pyplot as plt\n",
    "import math\n",
    "\n",
    "import sys\n",
    "sys.path.insert(1, '../Merging_Data')\n",
    "\n",
    "import WranglerFunctions as wf\n",
    "import FullDataset as fd\n",
    "\n",
    "from keras.models import Sequential\n",
    "from keras.layers import Dense\n",
    "from keras.layers import LSTM\n",
    "from sklearn.preprocessing import MinMaxScaler\n",
    "from sklearn.metrics import mean_squared_error"
   ]
  },
  {
   "cell_type": "code",
   "execution_count": null,
   "id": "504446be",
   "metadata": {},
   "outputs": [],
   "source": [
    "earnings = pd.read_csv('../Datasets/Financial_dataset/F3METL_Comp.csv', index_col=False, encoding = 'unicode_escape')\n",
    "earnings = wf.F3Metl_Comp_Wrangler(earnings)\n",
    "earnings"
   ]
  },
  {
   "cell_type": "code",
   "execution_count": null,
   "id": "bd6509ba",
   "metadata": {},
   "outputs": [],
   "source": [
    "RIO_earnings = earnings['RIO LN Equity']['EBITDA'].to_frame()\n",
    "RIO_earnings"
   ]
  },
  {
   "cell_type": "code",
   "execution_count": null,
   "id": "0e04521d",
   "metadata": {},
   "outputs": [],
   "source": [
    "mean = RIO_earnings['EBITDA'].rolling('90D', min_periods=1).mean()\n",
    "std = RIO_earnings['EBITDA'].rolling('90D', min_periods=1).std()\n",
    "\n",
    "RIO_earnings['EBITDA'].plot()\n",
    "plt.show()\n",
    "mean.plot()\n",
    "plt.show()\n",
    "std.plot()\n",
    "plt.show()"
   ]
  },
  {
   "cell_type": "code",
   "execution_count": null,
   "id": "736bb6ae",
   "metadata": {},
   "outputs": [],
   "source": [
    "earnings['RIO LN Equity'].loc[earnings['RIO LN Equity']['EBITDA'].drop_duplicates().index].corr()"
   ]
  },
  {
   "cell_type": "markdown",
   "id": "6e3dbafa",
   "metadata": {},
   "source": [
    "# LSTM"
   ]
  },
  {
   "cell_type": "markdown",
   "id": "9e0c74c6",
   "metadata": {},
   "source": [
    "Code from website below:\n",
    "\n",
    "https://machinelearningmastery.com/multivariate-time-series-forecasting-lstms-keras/\n",
    "\n",
    "When rerunning code you have to restart the kernel and run from the start."
   ]
  },
  {
   "cell_type": "code",
   "execution_count": null,
   "id": "15a6f851",
   "metadata": {},
   "outputs": [],
   "source": [
    "# inflation_original = pd.read_csv('../Datasets/Economic_dataset/Inflation.csv', index_col = False)\n",
    "# clean_inflation = wf.Inflation_Unemployment_Wrangler(inflation_original)\n",
    "# unemployment_original = pd.read_csv('../Datasets/Economic_dataset/Unemployment.csv', index_col = False)\n",
    "# clean_unemployment, _ = wf.Inflation_Unemployment_Wrangler(unemployment_original)\n",
    "\n",
    "# def getEBITDAUnique(df, companyName):\n",
    "#     earnings_unique = df[companyName]['EBITDA'].drop_duplicates()\n",
    "#     earnings_unique = pd.DataFrame(earnings_unique)\n",
    "#     earnings_unique = earnings_unique.dropna()\n",
    "#     earnings_unique = earnings_unique.reset_index()\n",
    "#     return earnings_unique\n",
    "\n",
    "# def closest_date(dateList, date, start, end):\n",
    "#     if start > end:\n",
    "#         return (start + end) // 2\n",
    "\n",
    "#     mid = (start + end) // 2\n",
    "#     if date == dateList[mid]:\n",
    "#         return mid\n",
    "\n",
    "#     if date < dateList[mid]:\n",
    "#         return closest_date(dateList, date, start, mid-1)\n",
    "#     else:\n",
    "#         return closest_date(dateList, date, mid+1, end)\n",
    "\n",
    "# def add_inflation(df, inflation):\n",
    "#     df['Inflation Rate'] = np.nan\n",
    "#     i = 0\n",
    "#     for i in range(len(df)):\n",
    "#         date = df['Dates'][i]\n",
    "#         closestInflationDate = closest_date(inflation['Date'], date, 0, len(inflation['Date']))\n",
    "#         df.loc[i, 'Inflation Rate'] = inflation['Inflation Rate'][closestInflationDate]\n",
    "#     return df\n",
    "\n",
    "# def add_Unemployment(df, unemployment):\n",
    "#     df['Unemployment'] = np.nan\n",
    "#     i = 0\n",
    "#     for i in range(len(df)):\n",
    "#         date = df['Dates'][i]\n",
    "#         closestDate = closest_date(unemployment['Date'], date, 0, len(unemployment['Date']))\n",
    "#         df.loc[i, 'Unemployment'] = unemployment['Unemployment Rate'][closestDate]\n",
    "#     return df\n",
    "\n",
    "RIO_full = fd.GetFullDatasetForCompany(\"RIO LN Equity\")\n",
    "RIO_full.index = RIO_full['Date']\n",
    "RIO_full = RIO_full.drop('Date', axis = 1)\n",
    "RIO_full"
   ]
  },
  {
   "cell_type": "code",
   "execution_count": null,
   "id": "472290db",
   "metadata": {},
   "outputs": [],
   "source": [
    "# RIO_unique = getEBITDAUnique(earnings, \"RIO LN Equity\")\n",
    "# add_Unemployment(RIO_unique, clean_unemployment)\n",
    "# add_inflation(RIO_unique, clean_inflation[0])\n",
    "# RIO_unique.index = RIO_unique[\"Dates\"]\n",
    "# RIO_unique = RIO_unique.drop(\"Dates\", axis = 1)\n",
    "# RIO_unique"
   ]
  },
  {
   "cell_type": "code",
   "execution_count": null,
   "id": "b68c35be",
   "metadata": {},
   "outputs": [],
   "source": [
    "groups = range(len(RIO_full.columns))\n",
    "i = 1\n",
    "values = RIO_full.values\n",
    "# plot each column\n",
    "# plt.figure()\n",
    "for group in groups:\n",
    "#     plt.subplot(len(groups), 1, i)\n",
    "    plt.plot(values[:, group])\n",
    "    plt.title(RIO_full.columns[group], y=0.5, loc='right')\n",
    "    plt.show()\n",
    "    i += 1"
   ]
  },
  {
   "cell_type": "code",
   "execution_count": null,
   "id": "86dea74b",
   "metadata": {
    "scrolled": false
   },
   "outputs": [],
   "source": [
    "# convert series to supervised learning\n",
    "def series_to_supervised(data, n_in=1, n_out=1, dropnan=True):\n",
    "    n_vars = 1 if type(data) is list else data.shape[1]\n",
    "    df = pd.DataFrame(data)\n",
    "    cols, names = list(), list()\n",
    "    # input sequence (t-n, ... t-1)\n",
    "    for i in range(n_in, 0, -1):\n",
    "        cols.append(df.shift(i))\n",
    "        names += [('var%d(t-%d)' % (j+1, i)) for j in range(n_vars)]\n",
    "    # forecast sequence (t, t+1, ... t+n)\n",
    "    for i in range(0, n_out):\n",
    "        cols.append(df.shift(-i))\n",
    "        if i == 0:\n",
    "            names += [('var%d(t)' % (j+1)) for j in range(n_vars)]\n",
    "        else:\n",
    "            names += [('var%d(t+%d)' % (j+1, i)) for j in range(n_vars)]\n",
    "    # put it all together\n",
    "    agg = pd.concat(cols, axis=1)\n",
    "    agg.columns = names\n",
    "    # drop rows with NaN values\n",
    "    if dropnan:\n",
    "        agg.dropna(inplace=True)\n",
    "    return agg\n",
    " \n",
    "values = values.astype('float32')\n",
    "scaler = MinMaxScaler(feature_range=(0, 1))\n",
    "scaled = scaler.fit_transform(values)\n",
    "    \n",
    "# Lag is number of datapoints it looks previously\n",
    "lag = 3\n",
    "reframed = series_to_supervised(scaled, lag, 1)\n",
    "#reframed.drop(reframed.columns[range(len(RIO_full.columns) + 1, 2*len(RIO_full.columns))], axis=1, inplace=True)\n",
    "print(list(range(2*len(RIO_full.columns) + 1, 3*len(RIO_full.columns) - 1)))\n",
    "reframed"
   ]
  },
  {
   "cell_type": "code",
   "execution_count": null,
   "id": "529f5781",
   "metadata": {},
   "outputs": [],
   "source": [
    "# split into train and test sets\n",
    "values = reframed.values\n",
    "n_train_hours = 30\n",
    "train = values[:n_train_hours, :]\n",
    "test = values[n_train_hours:, :]\n",
    "# split into input and outputs\n",
    "n_obs = lag * 22\n",
    "train_X, train_y = train[:, :n_obs], train[:, -22]\n",
    "test_X, test_y = test[:, :n_obs], test[:, -22]\n",
    "# reshape input to be 3D [samples, timesteps, features]\n",
    "# train_X = train_X.reshape((train_X.shape[0], lag, train_X.shape[1]))\n",
    "# test_X = test_X.reshape((test_X.shape[0], lag, test_X.shape[1]))\n",
    "\n",
    "train_X = train_X.reshape((train_X.shape[0], lag, 22))\n",
    "test_X = test_X.reshape((test_X.shape[0], lag, 22))\n",
    "\n",
    "print(train_X.shape, train_y.shape, test_X.shape, test_y.shape)"
   ]
  },
  {
   "cell_type": "code",
   "execution_count": null,
   "id": "7f697eb8",
   "metadata": {},
   "outputs": [],
   "source": [
    "# design network\n",
    "model = Sequential()\n",
    "lstm = LSTM(50, input_shape = (train_X.shape[1], train_X.shape[2]))\n",
    "model.add(lstm)\n",
    "model.add(Dense(1))\n",
    "model.compile(loss='mae', optimizer='adam')\n",
    "# fit network\n",
    "history = model.fit(train_X, train_y, epochs=50, batch_size=72, validation_data=(test_X, test_y), verbose=2, shuffle=False)\n",
    "# plot history\n",
    "plt.plot(history.history['loss'], label='train')\n",
    "plt.plot(history.history['val_loss'], label='test')\n",
    "plt.legend()\n",
    "plt.show()"
   ]
  },
  {
   "cell_type": "code",
   "execution_count": null,
   "id": "52a5eeb6",
   "metadata": {},
   "outputs": [],
   "source": [
    "# make a prediction\n",
    "yhat = model.predict(test_X)\n",
    "test_X = test_X.reshape((test_X.shape[0], lag*22))\n",
    "# invert scaling for forecast\n",
    "inv_yhat = np.concatenate((yhat, test_X[:, -21:]), axis=1)\n",
    "inv_yhat = scaler.inverse_transform(inv_yhat)\n",
    "inv_yhat = inv_yhat[:,0]\n",
    "# invert scaling for actual\n",
    "test_y = test_y.reshape((len(test_y), 1))\n",
    "inv_y = np.concatenate((test_y, test_X[:, -21:]), axis=1)\n",
    "inv_y = scaler.inverse_transform(inv_y)\n",
    "inv_y = inv_y[:,0]\n",
    "# calculate RMSE\n",
    "rmse = math.sqrt(mean_squared_error(inv_y, inv_yhat))\n",
    "print('Test RMSE: %.3f' % rmse)"
   ]
  },
  {
   "cell_type": "markdown",
   "id": "b8b79d21",
   "metadata": {},
   "source": [
    "## Plotting forecast"
   ]
  },
  {
   "cell_type": "code",
   "execution_count": null,
   "id": "f13c2f48",
   "metadata": {},
   "outputs": [],
   "source": [
    "yhatTrain = model.predict(train_X)\n",
    "plt.plot(range(len(yhatTrain)), yhatTrain, c = 'b', marker = 'x')\n",
    "plt.plot(range(len(train_y)), train_y, c = 'r', marker = 'o')\n",
    "\n",
    "plt.plot(range(len(yhatTrain), len(RIO_full) - 3), yhat, c = 'b', marker = 'x')\n",
    "plt.plot(range(len(train_y), len(RIO_full) - 3), test_y, c = 'r', marker = 'o')\n",
    "plt.axvline(len(train_y))\n",
    "plt.show()"
   ]
  },
  {
   "cell_type": "code",
   "execution_count": null,
   "id": "52bcd49c",
   "metadata": {},
   "outputs": [],
   "source": []
  }
 ],
 "metadata": {
  "kernelspec": {
   "display_name": "Python 3 (ipykernel)",
   "language": "python",
   "name": "python3"
  },
  "language_info": {
   "codemirror_mode": {
    "name": "ipython",
    "version": 3
   },
   "file_extension": ".py",
   "mimetype": "text/x-python",
   "name": "python",
   "nbconvert_exporter": "python",
   "pygments_lexer": "ipython3",
   "version": "3.8.12"
  }
 },
 "nbformat": 4,
 "nbformat_minor": 5
}
